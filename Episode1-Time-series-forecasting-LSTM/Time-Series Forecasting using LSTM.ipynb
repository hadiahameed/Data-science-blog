{
 "cells": [
  {
   "cell_type": "code",
   "execution_count": 1,
   "metadata": {},
   "outputs": [
    {
     "name": "stderr",
     "output_type": "stream",
     "text": [
      "Using TensorFlow backend.\n"
     ]
    }
   ],
   "source": [
    "import pandas as pd\n",
    "import matplotlib.pyplot as plt\n",
    "from numpy import array\n",
    "from sklearn.model_selection import train_test_split\n",
    "from keras.models import Sequential\n",
    "from keras.layers import LSTM\n",
    "from keras.layers import Dense\n",
    "import math\n",
    "from sklearn.metrics import mean_squared_error\n",
    "import warnings\n",
    "warnings.filterwarnings('ignore')\n",
    "from keras import backend as bk\n",
    "import numpy as np"
   ]
  },
  {
   "cell_type": "markdown",
   "metadata": {},
   "source": [
    "# Loading Data"
   ]
  },
  {
   "cell_type": "code",
   "execution_count": 2,
   "metadata": {},
   "outputs": [],
   "source": [
    "def load_data():\n",
    "    url = 'https://raw.githubusercontent.com/jbrownlee/Datasets/master/daily-min-temperatures.csv'\n",
    "    df = pd.read_csv(url)\n",
    "    df.head(5)\n",
    "    return df"
   ]
  },
  {
   "cell_type": "markdown",
   "metadata": {},
   "source": [
    "# Plotting Data"
   ]
  },
  {
   "cell_type": "code",
   "execution_count": 3,
   "metadata": {},
   "outputs": [],
   "source": [
    "def plot_data(df):\n",
    "    %matplotlib inline\n",
    "    plt.plot(df['Date'],df['Temp'])\n",
    "    plt.xlabel('Date')\n",
    "    plt.ylabel('Temperature')\n",
    "    plt.title('Daily minimum temperatures in Melbourne, Australia, 1981-1990')\n",
    "    plt.show()"
   ]
  },
  {
   "cell_type": "markdown",
   "metadata": {},
   "source": [
    "# Windowing the Input Signal"
   ]
  },
  {
   "cell_type": "code",
   "execution_count": 4,
   "metadata": {},
   "outputs": [],
   "source": [
    "#Splits data into chunks of window_size with overlap\n",
    "def moving_window(signal,window_size):\n",
    "    features, labels = list(),list()\n",
    "    i = 0\n",
    "    while i < len(signal) - window_size:\n",
    "        features.append(signal[i:i+window_size])\n",
    "        labels.append(signal[i+window_size])\n",
    "        i = i + 1\n",
    "    return array(features), array(labels)\n",
    "\n",
    "def split_data(window_size,df):\n",
    "    signal = df['Temp'].values\n",
    "    X, y = moving_window(signal, window_size)\n",
    "    return X,y"
   ]
  },
  {
   "cell_type": "markdown",
   "metadata": {},
   "source": [
    "# Train Test Split"
   ]
  },
  {
   "cell_type": "markdown",
   "metadata": {},
   "source": [
    "Train Test split parameters [1]:\n",
    "\n",
    "**test_size** : float, int or None, optional (default=None)\n",
    "If float, should be between 0.0 and 1.0 and represent the proportion of the dataset to include in the test split. If int, represents the absolute number of test samples. If None, the value is set to the complement of the train size. If train_size is also None, it will be set to 0.25.\n",
    "e.g. for 30& test size, we choose 0.3\n",
    "\n",
    "**train_size**: float, int, or None, (default=None)\n",
    "If float, should be between 0.0 and 1.0 and represent the proportion of the dataset to include in the train split. If int, represents the absolute number of train samples. If None, the value is automatically set to the complement of the test size.\n",
    "\n",
    "**random_state** : int, RandomState instance or None, optional (default=None)\n",
    "If int, random_state is the seed used by the random number generator; If RandomState instance, random_state is the random number generator; If None, the random number generator is the RandomState instance used by np.random.\n",
    "\n",
    "**shuffle** : boolean, optional (default=True)\n",
    "Whether or not to shuffle the data before splitting. If shuffle=False then stratify must be None.\n",
    "\n",
    "**stratify** : array-like or None (default=None)\n",
    "If not None, data is split in a stratified fashion, using this as the class labels."
   ]
  },
  {
   "cell_type": "code",
   "execution_count": 5,
   "metadata": {},
   "outputs": [],
   "source": [
    "def train_test(X,y):\n",
    "    X_train, X_test, y_train, y_test = train_test_split(X,y, test_size = 0.30, random_state = 42)\n",
    "    return X_train, X_test, y_train, y_test"
   ]
  },
  {
   "cell_type": "markdown",
   "metadata": {},
   "source": [
    "# Build LSTM Model"
   ]
  },
  {
   "cell_type": "markdown",
   "metadata": {},
   "source": [
    "LSTM parameters [2]:   \n",
    "**units**: Positive integer, dimensionality of the output space.  \n",
    "**activation**: Activation function to use (see activations). Default: hyperbolic tangent (tanh). If you pass None, no activation is applied (ie. \"linear\" activation: a(x) = x).  \n",
    "recurrent_activation: Activation function to use for the recurrent step (see activations). Default: hard sigmoid (hard_sigmoid). If you pass None, no activation is applied (ie. \"linear\" activation: a(x) = x).\n",
    "use_bias: Boolean, whether the layer uses a bias vector.  \n",
    "**kernel_initializer**: Initializer for the kernel weights matrix, used for the linear transformation of the inputs. (see initializers).  \n",
    "**recurrent_initializer**: Initializer for the recurrent_kernel weights matrix, used for the linear transformation of the recurrent state. (see initializers).  \n",
    "**bias_initializer**: Initializer for the bias vector (see initializers).  \n",
    "unit_forget_bias: Boolean. If True, add 1 to the bias of the forget gate at initialization. Setting it to true will also force bias_initializer=\"zeros\". This is recommended in Jozefowicz et al. (2015).  \n",
    "**kernel_regularizer**: Regularizer function applied to the kernel weights matrix (see regularizer).    \n",
    "**recurrent_regularizer**: Regularizer function applied to the recurrent_kernel weights matrix (see regularizer).  \n",
    "**bias_regularizer**: Regularizer function applied to the bias vector (see regularizer).  \n",
    "**activity_regularizer**: Regularizer function applied to the output of the layer (its \"activation\"). (see regularizer).  \n",
    "**kernel_constraint**: Constraint function applied to the kernel weights matrix (see constraints).  \n",
    "**recurrent_constraint**: Constraint function applied to the recurrent_kernel weights matrix (see constraints).  \n",
    "**bias_constraint**: Constraint function applied to the bias vector (see constraints).  \n",
    "**dropout**: Float between 0 and 1. Fraction of the units to drop for the linear transformation of the inputs.  \n",
    "**recurrent_dropout**: Float between 0 and 1. Fraction of the units to drop for the linear transformation of the recurrent state.    \n",
    "**implementation**: Implementation mode, either 1 or 2. Mode 1 will structure its operations as a larger number of smaller dot products and additions, whereas mode 2 will batch them into fewer, larger operations. These modes will have different performance profiles on different hardware and for different applications.  \n",
    "**return_sequences**: Boolean. Whether to return the last output in the output sequence, or the full sequence.  \n",
    "**return_state**: Boolean. Whether to return the last state in addition to the output. The returned elements of the states list are the hidden state and the cell state, respectively.  \n",
    "**go_backwards**: Boolean (default False). If True, process the input sequence backwards and return the reversed sequence.  \n",
    "**stateful**: Boolean (default False). If True, the last state for each sample at index i in a batch will be used as initial state for the sample of index i in the following batch.  \n",
    "**unroll**: Boolean (default False). If True, the network will be unrolled, else a symbolic loop will be used. Unrolling can speed-up a RNN, although it tends to be more memory-intensive. Unrolling is only suitable for short sequences.  "
   ]
  },
  {
   "cell_type": "code",
   "execution_count": 6,
   "metadata": {},
   "outputs": [],
   "source": [
    "def build_model(state_variable_length, activation, optimizer,window_size,loss):\n",
    "    n_features = 1 #univariate time series\n",
    "\n",
    "    #model parameters\n",
    "    #state_variable_length = 50 #try out 10,50,100,150\n",
    "    #activation = 'softmax'#try out softmax, relu, sigmoid\n",
    "    #optimizer = 'adam' #try out SGD, RMSprop, Adagrad, Adamax\n",
    "\n",
    "    #building a model\n",
    "    bk.clear_session()\n",
    "    model = Sequential() \n",
    "    model.add(LSTM(state_variable_length, activation=activation, input_shape=(window_size, n_features)))\n",
    "    model.add(Dense(1)) #fully connected outer layer\n",
    "    model.compile(optimizer='adam', loss=loss)\n",
    "    return model,n_features"
   ]
  },
  {
   "cell_type": "code",
   "execution_count": 7,
   "metadata": {},
   "outputs": [],
   "source": [
    "def train_model(X_train, n_features,epochs,batch_size,model):\n",
    "    #Reshaping the stream of input data going into the model\n",
    "    X_train = X_train.reshape((X_train.shape[0], X_train.shape[1], n_features))\n",
    "\n",
    "    #training parameters\n",
    "    #epochs = 100 #try 10,100,500, 1000\n",
    "    #batch_size = 32 #try 32,64,128\n",
    "\n",
    "    # fit model\n",
    "    model.fit(X_train, y_train, epochs=epochs,batch_size=batch_size,verbose=0)\n",
    "    return model"
   ]
  },
  {
   "cell_type": "markdown",
   "metadata": {},
   "source": [
    "# Predicting Test samples"
   ]
  },
  {
   "cell_type": "code",
   "execution_count": 8,
   "metadata": {},
   "outputs": [],
   "source": [
    "def test_model(X_test,y_test,model):\n",
    "    X_test = X_test.reshape((X_test.shape[0], X_test.shape[1], n_features))\n",
    "    y_pred = model.predict(X_test, verbose=0)\n",
    "\n",
    "    testScore = math.sqrt(mean_squared_error(y_test,y_pred))\n",
    "    #print('Test Score: %.2f RMSE' % (testScore))\n",
    "    return testScore"
   ]
  },
  {
   "cell_type": "markdown",
   "metadata": {},
   "source": [
    "# Running the Code with different Parameters"
   ]
  },
  {
   "cell_type": "code",
   "execution_count": 9,
   "metadata": {},
   "outputs": [
    {
     "data": {
      "image/png": "[encoded data removed]",
      "text/plain": [
       "<Figure size 432x288 with 1 Axes>"
      ]
     },
     "metadata": {
      "needs_background": "light"
     },
     "output_type": "display_data"
    }
   ],
   "source": [
    "df = load_data()\n",
    "plot_data(df)\n",
    "\n",
    "window_size = 5 #try 3,5,7\n",
    "X,y = split_data(window_size,df)\n",
    "\n",
    "X_train, X_test, y_train, y_test = train_test(X,y)\n"
   ]
  },
  {
   "cell_type": "code",
   "execution_count": 10,
   "metadata": {},
   "outputs": [
    {
     "name": "stdout",
     "output_type": "stream",
     "text": [
      "WARNING:tensorflow:From /anaconda3/lib/python3.7/site-packages/tensorflow/python/framework/op_def_library.py:263: colocate_with (from tensorflow.python.framework.ops) is deprecated and will be removed in a future version.\n",
      "Instructions for updating:\n",
      "Colocations handled automatically by placer.\n",
      "WARNING:tensorflow:From /anaconda3/lib/python3.7/site-packages/tensorflow/python/ops/math_ops.py:3066: to_int32 (from tensorflow.python.ops.math_ops) is deprecated and will be removed in a future version.\n",
      "Instructions for updating:\n",
      "Use tf.cast instead.\n",
      "Test Score with activation  softmax : 2.92 RMSE\n",
      "Test Score with activation  relu : 2.34 RMSE\n",
      "Test Score with activation  sigmoid : 2.32 RMSE\n",
      "Test Score with activation  tanh : 2.31 RMSE\n",
      "Test Score with activation  softsign : 2.34 RMSE\n"
     ]
    }
   ],
   "source": [
    "state_variable_length = 10 #try 10,50,100\n",
    "activation = ['softmax','relu', 'sigmoid', 'tanh', 'softsign']\n",
    "optimizer = 'adam' #try out SGD, RMSprop, adam ,Adagrad, Adamax\n",
    "loss = 'mean_squared_error' #try mean_squared_error, mean_absolute_error, mean_absolute_percentage_error, mean_squared_logarithmic_error\n",
    "testScores = list()\n",
    "for act in activation:\n",
    "    model,n_features = build_model(state_variable_length, act, optimizer,window_size,loss)\n",
    "\n",
    "    epochs = 100 #try 10,100,500, 1000\n",
    "    batch_size = 32 #try 32,64,128\n",
    "    model = train_model(X_train, n_features,epochs,batch_size,model)\n",
    "    testScore = test_model(X_test,y_test,model)\n",
    "    testScores.append(testScore)\n",
    "    print('Test Score with activation ',act,': %.2f RMSE' % (testScore))"
   ]
  },
  {
   "cell_type": "code",
   "execution_count": 11,
   "metadata": {},
   "outputs": [
    {
     "data": {
      "image/png": "[encoded data removed]",
      "text/plain": [
       "<Figure size 432x288 with 1 Axes>"
      ]
     },
     "metadata": {
      "needs_background": "light"
     },
     "output_type": "display_data"
    }
   ],
   "source": [
    "y_pos = np.arange(len(activation))\n",
    "plt.bar(y_pos, testScores, align='center', alpha=0.5)\n",
    "plt.xticks(y_pos, activation)\n",
    "plt.ylabel(loss)\n",
    "plt.title('Activation Function used')\n",
    "plt.show()"
   ]
  },
  {
   "cell_type": "code",
   "execution_count": null,
   "metadata": {},
   "outputs": [],
   "source": []
  }
 ],
 "metadata": {
  "kernelspec": {
   "display_name": "Python 3",
   "language": "python",
   "name": "python3"
  },
  "language_info": {
   "codemirror_mode": {
    "name": "ipython",
    "version": 3
   },
   "file_extension": ".py",
   "mimetype": "text/x-python",
   "name": "python",
   "nbconvert_exporter": "python",
   "pygments_lexer": "ipython3",
   "version": "3.7.3"
  }
 },
 "nbformat": 4,
 "nbformat_minor": 2
}
